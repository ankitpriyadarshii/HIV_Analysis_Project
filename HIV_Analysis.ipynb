{
 "cells": [
  {
   "cell_type": "markdown",
   "metadata": {},
   "source": [
    "# HIV Data Analysis"
   ]
  },
  {
   "cell_type": "markdown",
   "metadata": {},
   "source": [
    "## 1. Importing the required python libraries"
   ]
  },
  {
   "cell_type": "code",
   "execution_count": 1,
   "metadata": {},
   "outputs": [],
   "source": [
    "import numpy as np\n",
    "import pandas as pd\n",
    "import matplotlib.pyplot as plt\n",
    "import seaborn as sns"
   ]
  },
  {
   "cell_type": "markdown",
   "metadata": {},
   "source": [
    "## 2. Importing the Dataset"
   ]
  },
  {
   "cell_type": "code",
   "execution_count": 2,
   "metadata": {},
   "outputs": [],
   "source": [
    "data = pd.read_csv(r'E:\\Data Analysis\\HIV\\HIV_dataset.csv')"
   ]
  },
  {
   "cell_type": "markdown",
   "metadata": {},
   "source": [
    "## 3. Data Wrangling"
   ]
  },
  {
   "cell_type": "code",
   "execution_count": 3,
   "metadata": {},
   "outputs": [
    {
     "data": {
      "text/html": [
       "<div>\n",
       "<style scoped>\n",
       "    .dataframe tbody tr th:only-of-type {\n",
       "        vertical-align: middle;\n",
       "    }\n",
       "\n",
       "    .dataframe tbody tr th {\n",
       "        vertical-align: top;\n",
       "    }\n",
       "\n",
       "    .dataframe thead th {\n",
       "        text-align: right;\n",
       "    }\n",
       "</style>\n",
       "<table border=\"1\" class=\"dataframe\">\n",
       "  <thead>\n",
       "    <tr style=\"text-align: right;\">\n",
       "      <th></th>\n",
       "      <th>Age</th>\n",
       "      <th>Marital Staus</th>\n",
       "      <th>STD</th>\n",
       "      <th>Educational Background</th>\n",
       "      <th>HIV TEST IN PAST YEAR</th>\n",
       "      <th>AIDS education</th>\n",
       "      <th>Places of seeking sex partners</th>\n",
       "      <th>SEXUAL ORIENTATION</th>\n",
       "      <th>Drug- taking</th>\n",
       "      <th>Result</th>\n",
       "    </tr>\n",
       "  </thead>\n",
       "  <tbody>\n",
       "    <tr>\n",
       "      <th>0</th>\n",
       "      <td>22</td>\n",
       "      <td>UNMARRIED</td>\n",
       "      <td>NO</td>\n",
       "      <td>College Degree</td>\n",
       "      <td>YES</td>\n",
       "      <td>NO</td>\n",
       "      <td>Bar</td>\n",
       "      <td>Heterosexual</td>\n",
       "      <td>YES</td>\n",
       "      <td>POSITIVE</td>\n",
       "    </tr>\n",
       "    <tr>\n",
       "      <th>1</th>\n",
       "      <td>20</td>\n",
       "      <td>UNMARRIED</td>\n",
       "      <td>NO</td>\n",
       "      <td>College Degree</td>\n",
       "      <td>NO</td>\n",
       "      <td>YES</td>\n",
       "      <td>Others</td>\n",
       "      <td>Heterosexual</td>\n",
       "      <td>NO</td>\n",
       "      <td>NEGATIVE</td>\n",
       "    </tr>\n",
       "    <tr>\n",
       "      <th>2</th>\n",
       "      <td>23</td>\n",
       "      <td>MARRIED</td>\n",
       "      <td>YES</td>\n",
       "      <td>College Degree</td>\n",
       "      <td>NO</td>\n",
       "      <td>YES</td>\n",
       "      <td>Others</td>\n",
       "      <td>Bisexual</td>\n",
       "      <td>NO</td>\n",
       "      <td>NEGATIVE</td>\n",
       "    </tr>\n",
       "    <tr>\n",
       "      <th>3</th>\n",
       "      <td>24</td>\n",
       "      <td>MARRIED</td>\n",
       "      <td>NO</td>\n",
       "      <td>College Degree</td>\n",
       "      <td>YES</td>\n",
       "      <td>YES</td>\n",
       "      <td>Park</td>\n",
       "      <td>Heterosexual</td>\n",
       "      <td>YES</td>\n",
       "      <td>POSITIVE</td>\n",
       "    </tr>\n",
       "    <tr>\n",
       "      <th>4</th>\n",
       "      <td>18</td>\n",
       "      <td>UNMARRIED</td>\n",
       "      <td>YES</td>\n",
       "      <td>Senior High School</td>\n",
       "      <td>YES</td>\n",
       "      <td>NO</td>\n",
       "      <td>Internet</td>\n",
       "      <td>Heterosexual</td>\n",
       "      <td>YES</td>\n",
       "      <td>POSITIVE</td>\n",
       "    </tr>\n",
       "  </tbody>\n",
       "</table>\n",
       "</div>"
      ],
      "text/plain": [
       "   Age Marital Staus  STD Educational Background HIV TEST IN PAST YEAR  \\\n",
       "0   22     UNMARRIED   NO         College Degree                   YES   \n",
       "1   20     UNMARRIED   NO         College Degree                    NO   \n",
       "2   23       MARRIED  YES         College Degree                    NO   \n",
       "3   24       MARRIED   NO         College Degree                   YES   \n",
       "4   18     UNMARRIED  YES     Senior High School                   YES   \n",
       "\n",
       "  AIDS education Places of seeking sex partners SEXUAL ORIENTATION  \\\n",
       "0             NO                            Bar       Heterosexual   \n",
       "1            YES                         Others       Heterosexual   \n",
       "2            YES                         Others           Bisexual   \n",
       "3            YES                           Park       Heterosexual   \n",
       "4             NO                       Internet       Heterosexual   \n",
       "\n",
       "  Drug- taking    Result  \n",
       "0          YES  POSITIVE  \n",
       "1           NO  NEGATIVE  \n",
       "2           NO  NEGATIVE  \n",
       "3          YES  POSITIVE  \n",
       "4          YES  POSITIVE  "
      ]
     },
     "execution_count": 3,
     "metadata": {},
     "output_type": "execute_result"
    }
   ],
   "source": [
    "data.head(5)"
   ]
  },
  {
   "cell_type": "code",
   "execution_count": 4,
   "metadata": {},
   "outputs": [
    {
     "data": {
      "text/plain": [
       "(698, 10)"
      ]
     },
     "execution_count": 4,
     "metadata": {},
     "output_type": "execute_result"
    }
   ],
   "source": [
    "data.shape\n",
    "#698 rows, 10 columns"
   ]
  },
  {
   "cell_type": "code",
   "execution_count": 5,
   "metadata": {},
   "outputs": [
    {
     "name": "stdout",
     "output_type": "stream",
     "text": [
      "<class 'pandas.core.frame.DataFrame'>\n",
      "RangeIndex: 698 entries, 0 to 697\n",
      "Data columns (total 10 columns):\n",
      " #   Column                          Non-Null Count  Dtype \n",
      "---  ------                          --------------  ----- \n",
      " 0   Age                             698 non-null    int64 \n",
      " 1   Marital Staus                   698 non-null    object\n",
      " 2   STD                             698 non-null    object\n",
      " 3   Educational Background          698 non-null    object\n",
      " 4   HIV TEST IN PAST YEAR           698 non-null    object\n",
      " 5   AIDS education                  698 non-null    object\n",
      " 6   Places of seeking sex partners  698 non-null    object\n",
      " 7   SEXUAL ORIENTATION              698 non-null    object\n",
      " 8   Drug- taking                    698 non-null    object\n",
      " 9   Result                          698 non-null    object\n",
      "dtypes: int64(1), object(9)\n",
      "memory usage: 54.7+ KB\n"
     ]
    }
   ],
   "source": [
    "data.info()"
   ]
  },
  {
   "cell_type": "code",
   "execution_count": 6,
   "metadata": {},
   "outputs": [
    {
     "data": {
      "text/plain": [
       "array(['UNMARRIED', 'MARRIED', 'Widowed', 'Divorced', 'Cohabiting'],\n",
       "      dtype=object)"
      ]
     },
     "execution_count": 6,
     "metadata": {},
     "output_type": "execute_result"
    }
   ],
   "source": [
    "data['Marital Staus'].unique()"
   ]
  },
  {
   "cell_type": "code",
   "execution_count": 7,
   "metadata": {},
   "outputs": [
    {
     "data": {
      "text/plain": [
       "array(['College Degree', 'Senior High School', 'Junior High School',\n",
       "       'Illiteracy', 'Primary School'], dtype=object)"
      ]
     },
     "execution_count": 7,
     "metadata": {},
     "output_type": "execute_result"
    }
   ],
   "source": [
    "data['Educational Background'].unique()"
   ]
  },
  {
   "cell_type": "code",
   "execution_count": 8,
   "metadata": {},
   "outputs": [
    {
     "data": {
      "text/plain": [
       "array(['NO', 'YES'], dtype=object)"
      ]
     },
     "execution_count": 8,
     "metadata": {},
     "output_type": "execute_result"
    }
   ],
   "source": [
    "data['STD'].unique()"
   ]
  },
  {
   "cell_type": "code",
   "execution_count": 9,
   "metadata": {},
   "outputs": [
    {
     "data": {
      "text/plain": [
       "array(['YES', 'NO'], dtype=object)"
      ]
     },
     "execution_count": 9,
     "metadata": {},
     "output_type": "execute_result"
    }
   ],
   "source": [
    "data['HIV TEST IN PAST YEAR'].unique()"
   ]
  },
  {
   "cell_type": "code",
   "execution_count": 10,
   "metadata": {},
   "outputs": [
    {
     "data": {
      "text/plain": [
       "array(['NO', 'YES'], dtype=object)"
      ]
     },
     "execution_count": 10,
     "metadata": {},
     "output_type": "execute_result"
    }
   ],
   "source": [
    "data['AIDS education'].unique()"
   ]
  },
  {
   "cell_type": "code",
   "execution_count": 11,
   "metadata": {},
   "outputs": [
    {
     "data": {
      "text/plain": [
       "array(['Bar', 'Others', 'Park', 'Internet', 'Public bath', 'Dance Hall'],\n",
       "      dtype=object)"
      ]
     },
     "execution_count": 11,
     "metadata": {},
     "output_type": "execute_result"
    }
   ],
   "source": [
    "data['Places of seeking sex partners'].unique()"
   ]
  },
  {
   "cell_type": "code",
   "execution_count": 12,
   "metadata": {},
   "outputs": [
    {
     "data": {
      "text/plain": [
       "array(['Heterosexual', 'Bisexual', 'Homosexual', 'Hetersexual'],\n",
       "      dtype=object)"
      ]
     },
     "execution_count": 12,
     "metadata": {},
     "output_type": "execute_result"
    }
   ],
   "source": [
    "data['SEXUAL ORIENTATION'].unique()"
   ]
  },
  {
   "cell_type": "code",
   "execution_count": 13,
   "metadata": {},
   "outputs": [
    {
     "data": {
      "text/plain": [
       "array(['POSITIVE', 'NEGATIVE'], dtype=object)"
      ]
     },
     "execution_count": 13,
     "metadata": {},
     "output_type": "execute_result"
    }
   ],
   "source": [
    "data['Result'].unique()"
   ]
  },
  {
   "cell_type": "code",
   "execution_count": 14,
   "metadata": {},
   "outputs": [
    {
     "data": {
      "text/plain": [
       "array(['YES', 'NO'], dtype=object)"
      ]
     },
     "execution_count": 14,
     "metadata": {},
     "output_type": "execute_result"
    }
   ],
   "source": [
    "data['Drug- taking'].unique()"
   ]
  },
  {
   "cell_type": "code",
   "execution_count": 15,
   "metadata": {},
   "outputs": [],
   "source": [
    "data['Marital Staus'] = data['Marital Staus'].replace(['UNMARRIED', 'MARRIED', 'Widowed', 'Divorced', 'Cohabiting'],[1,2,3,4,5])"
   ]
  },
  {
   "cell_type": "code",
   "execution_count": 16,
   "metadata": {},
   "outputs": [],
   "source": [
    "data['Educational Background'] = data['Educational Background'].replace(['College Degree', 'Senior High School', 'Junior High School',\n",
    "       'Illiteracy', 'Primary School'],[1,2,3,4,5])"
   ]
  },
  {
   "cell_type": "code",
   "execution_count": 17,
   "metadata": {},
   "outputs": [],
   "source": [
    "data['STD'] = data['STD'].replace(['NO', 'YES'],[1,2])"
   ]
  },
  {
   "cell_type": "code",
   "execution_count": 18,
   "metadata": {},
   "outputs": [],
   "source": [
    "data['HIV TEST IN PAST YEAR'] = data['HIV TEST IN PAST YEAR'].replace(['YES', 'NO'], [2,1])"
   ]
  },
  {
   "cell_type": "code",
   "execution_count": 19,
   "metadata": {},
   "outputs": [],
   "source": [
    "data['Result'] = data['Result'].replace(['POSITIVE', 'NEGATIVE'],[1,0])"
   ]
  },
  {
   "cell_type": "code",
   "execution_count": 20,
   "metadata": {},
   "outputs": [],
   "source": [
    "data['AIDS education'] = data['AIDS education'].replace(['NO', 'YES'],[1,2])"
   ]
  },
  {
   "cell_type": "code",
   "execution_count": 21,
   "metadata": {},
   "outputs": [],
   "source": [
    "data['Places of seeking sex partners'] = data['Places of seeking sex partners'].replace(['Bar', 'Others', 'Park', 'Internet', 'Public bath', 'Dance Hall'], [1,2,3,4,5,6])"
   ]
  },
  {
   "cell_type": "code",
   "execution_count": 22,
   "metadata": {},
   "outputs": [],
   "source": [
    "data['SEXUAL ORIENTATION'] = data['SEXUAL ORIENTATION'].replace(['Heterosexual', 'Bisexual', 'Homosexual'], [1,2,3])"
   ]
  },
  {
   "cell_type": "code",
   "execution_count": 23,
   "metadata": {},
   "outputs": [],
   "source": [
    "data['Drug- taking'] = data['Drug- taking'].replace(['YES', 'NO'],[2,1])"
   ]
  },
  {
   "cell_type": "code",
   "execution_count": 24,
   "metadata": {},
   "outputs": [
    {
     "data": {
      "text/html": [
       "<div>\n",
       "<style scoped>\n",
       "    .dataframe tbody tr th:only-of-type {\n",
       "        vertical-align: middle;\n",
       "    }\n",
       "\n",
       "    .dataframe tbody tr th {\n",
       "        vertical-align: top;\n",
       "    }\n",
       "\n",
       "    .dataframe thead th {\n",
       "        text-align: right;\n",
       "    }\n",
       "</style>\n",
       "<table border=\"1\" class=\"dataframe\">\n",
       "  <thead>\n",
       "    <tr style=\"text-align: right;\">\n",
       "      <th></th>\n",
       "      <th>Age</th>\n",
       "      <th>Marital Staus</th>\n",
       "      <th>STD</th>\n",
       "      <th>Educational Background</th>\n",
       "      <th>HIV TEST IN PAST YEAR</th>\n",
       "      <th>AIDS education</th>\n",
       "      <th>Places of seeking sex partners</th>\n",
       "      <th>SEXUAL ORIENTATION</th>\n",
       "      <th>Drug- taking</th>\n",
       "      <th>Result</th>\n",
       "    </tr>\n",
       "  </thead>\n",
       "  <tbody>\n",
       "    <tr>\n",
       "      <th>0</th>\n",
       "      <td>22</td>\n",
       "      <td>1</td>\n",
       "      <td>1</td>\n",
       "      <td>1</td>\n",
       "      <td>2</td>\n",
       "      <td>1</td>\n",
       "      <td>1</td>\n",
       "      <td>1</td>\n",
       "      <td>2</td>\n",
       "      <td>1</td>\n",
       "    </tr>\n",
       "    <tr>\n",
       "      <th>1</th>\n",
       "      <td>20</td>\n",
       "      <td>1</td>\n",
       "      <td>1</td>\n",
       "      <td>1</td>\n",
       "      <td>1</td>\n",
       "      <td>2</td>\n",
       "      <td>2</td>\n",
       "      <td>1</td>\n",
       "      <td>1</td>\n",
       "      <td>0</td>\n",
       "    </tr>\n",
       "    <tr>\n",
       "      <th>2</th>\n",
       "      <td>23</td>\n",
       "      <td>2</td>\n",
       "      <td>2</td>\n",
       "      <td>1</td>\n",
       "      <td>1</td>\n",
       "      <td>2</td>\n",
       "      <td>2</td>\n",
       "      <td>2</td>\n",
       "      <td>1</td>\n",
       "      <td>0</td>\n",
       "    </tr>\n",
       "    <tr>\n",
       "      <th>3</th>\n",
       "      <td>24</td>\n",
       "      <td>2</td>\n",
       "      <td>1</td>\n",
       "      <td>1</td>\n",
       "      <td>2</td>\n",
       "      <td>2</td>\n",
       "      <td>3</td>\n",
       "      <td>1</td>\n",
       "      <td>2</td>\n",
       "      <td>1</td>\n",
       "    </tr>\n",
       "    <tr>\n",
       "      <th>4</th>\n",
       "      <td>18</td>\n",
       "      <td>1</td>\n",
       "      <td>2</td>\n",
       "      <td>2</td>\n",
       "      <td>2</td>\n",
       "      <td>1</td>\n",
       "      <td>4</td>\n",
       "      <td>1</td>\n",
       "      <td>2</td>\n",
       "      <td>1</td>\n",
       "    </tr>\n",
       "  </tbody>\n",
       "</table>\n",
       "</div>"
      ],
      "text/plain": [
       "   Age  Marital Staus  STD  Educational Background  HIV TEST IN PAST YEAR  \\\n",
       "0   22              1    1                       1                      2   \n",
       "1   20              1    1                       1                      1   \n",
       "2   23              2    2                       1                      1   \n",
       "3   24              2    1                       1                      2   \n",
       "4   18              1    2                       2                      2   \n",
       "\n",
       "   AIDS education  Places of seeking sex partners SEXUAL ORIENTATION  \\\n",
       "0               1                               1                  1   \n",
       "1               2                               2                  1   \n",
       "2               2                               2                  2   \n",
       "3               2                               3                  1   \n",
       "4               1                               4                  1   \n",
       "\n",
       "   Drug- taking  Result  \n",
       "0             2       1  \n",
       "1             1       0  \n",
       "2             1       0  \n",
       "3             2       1  \n",
       "4             2       1  "
      ]
     },
     "execution_count": 24,
     "metadata": {},
     "output_type": "execute_result"
    }
   ],
   "source": [
    "data.head()"
   ]
  },
  {
   "cell_type": "code",
   "execution_count": 25,
   "metadata": {},
   "outputs": [
    {
     "data": {
      "text/plain": [
       "<bound method DataFrame.corr of      Age  Marital Staus  STD  Educational Background  HIV TEST IN PAST YEAR  \\\n",
       "0     22              1    1                       1                      2   \n",
       "1     20              1    1                       1                      1   \n",
       "2     23              2    2                       1                      1   \n",
       "3     24              2    1                       1                      2   \n",
       "4     18              1    2                       2                      2   \n",
       "..   ...            ...  ...                     ...                    ...   \n",
       "693   19              1    2                       4                      1   \n",
       "694   47              2    1                       1                      1   \n",
       "695   34              1    2                       2                      2   \n",
       "696   25              2    1                       3                      1   \n",
       "697   46              5    2                       2                      2   \n",
       "\n",
       "     AIDS education  Places of seeking sex partners SEXUAL ORIENTATION  \\\n",
       "0                 1                               1                  1   \n",
       "1                 2                               2                  1   \n",
       "2                 2                               2                  2   \n",
       "3                 2                               3                  1   \n",
       "4                 1                               4                  1   \n",
       "..              ...                             ...                ...   \n",
       "693               1                               4                  1   \n",
       "694               2                               1                  2   \n",
       "695               2                               3                  3   \n",
       "696               1                               5                  1   \n",
       "697               1                               4                  3   \n",
       "\n",
       "     Drug- taking  Result  \n",
       "0               2       1  \n",
       "1               1       0  \n",
       "2               1       0  \n",
       "3               2       1  \n",
       "4               2       1  \n",
       "..            ...     ...  \n",
       "693             1       1  \n",
       "694             1       0  \n",
       "695             2       0  \n",
       "696             2       1  \n",
       "697             1       1  \n",
       "\n",
       "[698 rows x 10 columns]>"
      ]
     },
     "execution_count": 25,
     "metadata": {},
     "output_type": "execute_result"
    }
   ],
   "source": [
    "data.corr"
   ]
  },
  {
   "cell_type": "markdown",
   "metadata": {},
   "source": [
    "## 4. Correlation Matrix"
   ]
  },
  {
   "cell_type": "code",
   "execution_count": 26,
   "metadata": {},
   "outputs": [
    {
     "data": {
      "image/png": "[encoded data removed]",
      "text/plain": [
       "<Figure size 864x720 with 2 Axes>"
      ]
     },
     "metadata": {},
     "output_type": "display_data"
    }
   ],
   "source": [
    "sns.set(font_scale=1.2)\n",
    "fig, ax = plt.subplots(figsize=(12, 10))\n",
    "sns.heatmap(data.corr(), annot=True, cmap='coolwarm', square=True, cbar_kws={'shrink': 0.8}, ax=ax)\n",
    "\n",
    "# Add title and axis labels\n",
    "ax.set_title('Correlation Matrix', fontsize=20)\n",
    "ax.set_xlabel('Variables', fontsize=16)\n",
    "ax.set_ylabel('Variables', fontsize=16)\n",
    "\n",
    "# Save the plot as a high-quality image file\n",
    "fig.savefig('correlation_matrix.png', dpi=300, bbox_inches='tight')"
   ]
  },
  {
   "cell_type": "code",
   "execution_count": null,
   "metadata": {},
   "outputs": [],
   "source": []
  }
 ],
 "metadata": {
  "kernelspec": {
   "display_name": "Python 3",
   "language": "python",
   "name": "python3"
  },
  "language_info": {
   "codemirror_mode": {
    "name": "ipython",
    "version": 3
   },
   "file_extension": ".py",
   "mimetype": "text/x-python",
   "name": "python",
   "nbconvert_exporter": "python",
   "pygments_lexer": "ipython3",
   "version": "3.8.5"
  }
 },
 "nbformat": 4,
 "nbformat_minor": 4
}
